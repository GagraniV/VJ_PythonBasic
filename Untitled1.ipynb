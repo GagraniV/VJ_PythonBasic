{
  "nbformat": 4,
  "nbformat_minor": 0,
  "metadata": {
    "colab": {
      "provenance": [],
      "authorship_tag": "ABX9TyOpKojf3y6dnwJ2Dn7gFiDh",
      "include_colab_link": true
    },
    "kernelspec": {
      "name": "python3",
      "display_name": "Python 3"
    },
    "language_info": {
      "name": "python"
    }
  },
  "cells": [
    {
      "cell_type": "markdown",
      "metadata": {
        "id": "view-in-github",
        "colab_type": "text"
      },
      "source": [
        "<a href=\"https://colab.research.google.com/github/GagraniV/VJ_PythonBasic/blob/main/Untitled1.ipynb\" target=\"_parent\"><img src=\"https://colab.research.google.com/assets/colab-badge.svg\" alt=\"Open In Colab\"/></a>"
      ]
    },
    {
      "cell_type": "code",
      "execution_count": 10,
      "metadata": {
        "id": "Uilqn9cj9jcN"
      },
      "outputs": [],
      "source": [
        "import numpy as np\n",
        "import random as rd"
      ]
    },
    {
      "cell_type": "code",
      "source": [
        "# list comprehension "
      ],
      "metadata": {
        "id": "X70Q1jTq-Y6m"
      },
      "execution_count": null,
      "outputs": []
    },
    {
      "cell_type": "code",
      "source": [
        "M= np.array([[1,23,],[4,5,6],[7,8,9]])"
      ],
      "metadata": {
        "colab": {
          "base_uri": "https://localhost:8080/"
        },
        "id": "bTM40Ag1_tFC",
        "outputId": "0a0b1f8e-b699-446c-e05c-f8e55712f18c"
      },
      "execution_count": 2,
      "outputs": [
        {
          "output_type": "stream",
          "name": "stderr",
          "text": [
            "<ipython-input-2-0a04014de37a>:1: VisibleDeprecationWarning: Creating an ndarray from ragged nested sequences (which is a list-or-tuple of lists-or-tuples-or ndarrays with different lengths or shapes) is deprecated. If you meant to do this, you must specify 'dtype=object' when creating the ndarray.\n",
            "  M= np.array([[1,23,],[4,5,6],[7,8,9]])\n"
          ]
        }
      ]
    },
    {
      "cell_type": "code",
      "source": [
        "#Identity matrx\n",
        "I =np.eye(3,4)\n",
        "I"
      ],
      "metadata": {
        "colab": {
          "base_uri": "https://localhost:8080/"
        },
        "id": "5axk2wITAaZG",
        "outputId": "ee30d893-3ac8-4a6d-877e-514957f4b855"
      },
      "execution_count": 4,
      "outputs": [
        {
          "output_type": "execute_result",
          "data": {
            "text/plain": [
              "array([[1., 0., 0., 0.],\n",
              "       [0., 1., 0., 0.],\n",
              "       [0., 0., 1., 0.]])"
            ]
          },
          "metadata": {},
          "execution_count": 4
        }
      ]
    },
    {
      "cell_type": "code",
      "source": [
        "#zero matrix\n",
        "z=np.zeros((3,3))\n",
        "z"
      ],
      "metadata": {
        "colab": {
          "base_uri": "https://localhost:8080/"
        },
        "id": "6qLcbfZmAlSM",
        "outputId": "c1deb41a-5f3c-44fc-d5c0-fb4776fb930d"
      },
      "execution_count": 6,
      "outputs": [
        {
          "output_type": "execute_result",
          "data": {
            "text/plain": [
              "array([[0., 0., 0.],\n",
              "       [0., 0., 0.],\n",
              "       [0., 0., 0.]])"
            ]
          },
          "metadata": {},
          "execution_count": 6
        }
      ]
    },
    {
      "cell_type": "code",
      "source": [
        "o=np.ones((3,3))\n",
        "o"
      ],
      "metadata": {
        "colab": {
          "base_uri": "https://localhost:8080/"
        },
        "id": "zcnvZpXmAxZh",
        "outputId": "568806bb-87bc-4727-e4e1-f1dc150c9763"
      },
      "execution_count": 8,
      "outputs": [
        {
          "output_type": "execute_result",
          "data": {
            "text/plain": [
              "array([[1., 1., 1.],\n",
              "       [1., 1., 1.],\n",
              "       [1., 1., 1.]])"
            ]
          },
          "metadata": {},
          "execution_count": 8
        }
      ]
    },
    {
      "cell_type": "code",
      "source": [
        "# diagonal matrix\n",
        "d=np.diag([1,2,3])\n",
        "d"
      ],
      "metadata": {
        "colab": {
          "base_uri": "https://localhost:8080/"
        },
        "id": "T3618uXBA8YJ",
        "outputId": "af44ad4d-e192-4403-828d-da1dcaf7fb29"
      },
      "execution_count": 9,
      "outputs": [
        {
          "output_type": "execute_result",
          "data": {
            "text/plain": [
              "array([[1, 0, 0],\n",
              "       [0, 2, 0],\n",
              "       [0, 0, 3]])"
            ]
          },
          "metadata": {},
          "execution_count": 9
        }
      ]
    },
    {
      "cell_type": "code",
      "source": [
        "M=np.linspace(-8,8,9).reshape(3,3)\n",
        "N=np.random.randint(-8,8,size =(3,3))\n",
        "O=2+N\n",
        "v1 =np.array([1,3,5,7])\n",
        "v2 = np.array([2,4,6,8])\n",
        "v3 =np.array([-2,5,1,3])\n",
        "\n"
      ],
      "metadata": {
        "id": "FaO_fQ0XB_24"
      },
      "execution_count": 12,
      "outputs": []
    },
    {
      "cell_type": "code",
      "source": [
        "print(f'M: {M}',f'N: {N}',f'O: {O}',f'vs: {v1,v2,v3}')"
      ],
      "metadata": {
        "colab": {
          "base_uri": "https://localhost:8080/"
        },
        "id": "d8IcFE8SErE0",
        "outputId": "f3597b9e-1a82-49de-f5a9-c87f23f0506e"
      },
      "execution_count": 19,
      "outputs": [
        {
          "output_type": "stream",
          "name": "stdout",
          "text": [
            "M: [[-8. -6. -4.]\n",
            " [-2.  0.  2.]\n",
            " [ 4.  6.  8.]] N: [[ 4  3  3]\n",
            " [-1  4 -4]\n",
            " [ 4 -2 -3]] O: [[ 6  5  5]\n",
            " [ 1  6 -2]\n",
            " [ 6  0 -1]] vs: (array([1, 3, 5, 7]), array([2, 4, 6, 8]), array([-2,  5,  1,  3]))\n"
          ]
        }
      ]
    },
    {
      "cell_type": "code",
      "source": [
        "#dot product\n",
        "M.dot(N)"
      ],
      "metadata": {
        "colab": {
          "base_uri": "https://localhost:8080/"
        },
        "id": "VCiqeWGKFnax",
        "outputId": "ab214862-cf26-4738-ff09-1a0884c43110"
      },
      "execution_count": 20,
      "outputs": [
        {
          "output_type": "execute_result",
          "data": {
            "text/plain": [
              "array([[-42., -40.,  12.],\n",
              "       [  0., -10., -12.],\n",
              "       [ 42.,  20., -36.]])"
            ]
          },
          "metadata": {},
          "execution_count": 20
        }
      ]
    },
    {
      "cell_type": "code",
      "source": [
        "v1.dot(v2)"
      ],
      "metadata": {
        "colab": {
          "base_uri": "https://localhost:8080/"
        },
        "id": "oo89tkz3F3PQ",
        "outputId": "8beeb2d8-48e2-41a4-890e-a7bf810c4341"
      },
      "execution_count": 21,
      "outputs": [
        {
          "output_type": "execute_result",
          "data": {
            "text/plain": [
              "100"
            ]
          },
          "metadata": {},
          "execution_count": 21
        }
      ]
    },
    {
      "cell_type": "code",
      "source": [
        "np.linalg.multi_dot([M,N,O])"
      ],
      "metadata": {
        "colab": {
          "base_uri": "https://localhost:8080/"
        },
        "id": "QaWvVZpcGBmp",
        "outputId": "432cb010-272a-4571-ec95-075cd520ef6a"
      },
      "execution_count": 23,
      "outputs": [
        {
          "output_type": "execute_result",
          "data": {
            "text/plain": [
              "array([[-220., -450., -142.],\n",
              "       [ -82.,  -60.,   32.],\n",
              "       [  56.,  330.,  206.]])"
            ]
          },
          "metadata": {},
          "execution_count": 23
        }
      ]
    },
    {
      "cell_type": "code",
      "source": [
        "#inner product\n",
        "np.inner(v3,v1)"
      ],
      "metadata": {
        "colab": {
          "base_uri": "https://localhost:8080/"
        },
        "id": "ZBDti0ARGb7h",
        "outputId": "ab554522-dab8-434c-b85d-78a1fa4b8bda"
      },
      "execution_count": 25,
      "outputs": [
        {
          "output_type": "execute_result",
          "data": {
            "text/plain": [
              "39"
            ]
          },
          "metadata": {},
          "execution_count": 25
        }
      ]
    },
    {
      "cell_type": "code",
      "source": [
        "#product of two matrics\n",
        "np.matmul(M,N)"
      ],
      "metadata": {
        "colab": {
          "base_uri": "https://localhost:8080/"
        },
        "id": "PeqO08u_GmAv",
        "outputId": "58dffe99-686e-4ba1-a105-e44690bf4dec"
      },
      "execution_count": 26,
      "outputs": [
        {
          "output_type": "execute_result",
          "data": {
            "text/plain": [
              "array([[-42., -40.,  12.],\n",
              "       [  0., -10., -12.],\n",
              "       [ 42.,  20., -36.]])"
            ]
          },
          "metadata": {},
          "execution_count": 26
        }
      ]
    },
    {
      "cell_type": "code",
      "source": [
        "np.linalg.matrix_power(M,3)"
      ],
      "metadata": {
        "colab": {
          "base_uri": "https://localhost:8080/"
        },
        "id": "ekfZ4NOoGzOu",
        "outputId": "add2a1f2-e412-46b6-efb4-f7dfb7ab163b"
      },
      "execution_count": 27,
      "outputs": [
        {
          "output_type": "execute_result",
          "data": {
            "text/plain": [
              "array([[-576., -432., -288.],\n",
              "       [-144.,    0.,  144.],\n",
              "       [ 288.,  432.,  576.]])"
            ]
          },
          "metadata": {},
          "execution_count": 27
        }
      ]
    },
    {
      "cell_type": "code",
      "source": [
        "#eigenvalue and eigenvector\n",
        "eig_vals, eig_vects =np.linalg.eig(O)\n",
        "print(eig_vals, eig_vects)"
      ],
      "metadata": {
        "colab": {
          "base_uri": "https://localhost:8080/"
        },
        "id": "2NOtbxIeG_LB",
        "outputId": "4a6127a5-edc3-4a93-9dfa-b020903519f2"
      },
      "execution_count": 30,
      "outputs": [
        {
          "output_type": "stream",
          "name": "stdout",
          "text": [
            "[-4.54421524  8.64926047  6.89495477] [[ 0.49758526 -0.84663627  0.72260763]\n",
            " [-0.2069674   0.07785432 -0.41982641]\n",
            " [-0.8423618  -0.52644632  0.54916664]]\n"
          ]
        }
      ]
    },
    {
      "cell_type": "code",
      "source": [],
      "metadata": {
        "id": "V5DDCR6BIUNr"
      },
      "execution_count": null,
      "outputs": []
    },
    {
      "cell_type": "markdown",
      "source": [
        "\n",
        "\n",
        "```\n",
        "4x+3y+2z =25\n",
        "-2x+2y+3z =-10\n",
        "3x=5y+2z =-4\n",
        "\n",
        "M*V = K\n",
        "V is a inverse of M times K\n",
        "# V = M-1 *K\n",
        "```\n",
        "\n"
      ],
      "metadata": {
        "id": "rEIxq1WXIV-1"
      }
    },
    {
      "cell_type": "code",
      "source": [
        "#solve linear eq using inverse method\n",
        "M=np.array([[4,3,2],[-2,2,3],[3,-5,2]])\n",
        "K= np.array([[25],[-10],[-4]])\n",
        "V=np.array([['x'],['y'],['z']])\n",
        "print(M,K,V)"
      ],
      "metadata": {
        "colab": {
          "base_uri": "https://localhost:8080/"
        },
        "id": "G9GVvL-4I1gh",
        "outputId": "f25a37ef-4d84-4f86-9891-acb4ec69a776"
      },
      "execution_count": 41,
      "outputs": [
        {
          "output_type": "stream",
          "name": "stdout",
          "text": [
            "[[ 4  3  2]\n",
            " [-2  2  3]\n",
            " [ 3 -5  2]] [[ 25]\n",
            " [-10]\n",
            " [ -4]] [['x']\n",
            " ['y']\n",
            " ['z']]\n"
          ]
        }
      ]
    },
    {
      "cell_type": "code",
      "source": [
        "V=np.linalg.inv(M).dot(K)\n",
        "V"
      ],
      "metadata": {
        "colab": {
          "base_uri": "https://localhost:8080/"
        },
        "id": "eFDJspuaKvJI",
        "outputId": "8c296953-0fb4-4146-8dc6-2e354618372a"
      },
      "execution_count": 42,
      "outputs": [
        {
          "output_type": "execute_result",
          "data": {
            "text/plain": [
              "array([[ 5.],\n",
              "       [ 3.],\n",
              "       [-2.]])"
            ]
          },
          "metadata": {},
          "execution_count": 42
        }
      ]
    },
    {
      "cell_type": "markdown",
      "source": [],
      "metadata": {
        "id": "uZbdxI4qI0PG"
      }
    },
    {
      "cell_type": "code",
      "source": [
        "Sol =np.linalg.solve(M,K)\n",
        "Sol"
      ],
      "metadata": {
        "colab": {
          "base_uri": "https://localhost:8080/"
        },
        "id": "dRW_FtdyMB9T",
        "outputId": "26f91ba1-75c9-44cc-ab90-9d0a3f170e75"
      },
      "execution_count": 43,
      "outputs": [
        {
          "output_type": "execute_result",
          "data": {
            "text/plain": [
              "array([[ 5.],\n",
              "       [ 3.],\n",
              "       [-2.]])"
            ]
          },
          "metadata": {},
          "execution_count": 43
        }
      ]
    }
  ]
}